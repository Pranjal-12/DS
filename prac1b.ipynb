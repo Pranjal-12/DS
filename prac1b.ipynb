{
  "nbformat": 4,
  "nbformat_minor": 0,
  "metadata": {
    "colab": {
      "name": "prac1b.ipynb",
      "provenance": [],
      "authorship_tag": "ABX9TyPsqxJ6rkQjhAy/Eb1doY0o",
      "include_colab_link": true
    },
    "kernelspec": {
      "name": "python3",
      "display_name": "Python 3"
    }
  },
  "cells": [
    {
      "cell_type": "markdown",
      "metadata": {
        "id": "view-in-github",
        "colab_type": "text"
      },
      "source": [
        "<a href=\"https://colab.research.google.com/github/Pranjal-12/DS/blob/master/prac1b.ipynb\" target=\"_parent\"><img src=\"https://colab.research.google.com/assets/colab-badge.svg\" alt=\"Open In Colab\"/></a>"
      ]
    },
    {
      "cell_type": "code",
      "metadata": {
        "id": "S0eaB6Ofno-7",
        "outputId": "7c354ca2-26be-4ad2-aa9f-6484dcf2eade",
        "colab": {
          "base_uri": "https://localhost:8080/",
          "height": 420
        }
      },
      "source": [
        "#Python program to perform matrix operations, matrix addition,matrix subtraction,matrix multiplication - addition\n",
        "\n",
        "\n",
        "mat1 = [[10, 20], [50, 3]]\n",
        "mat2 = [[3, 2], [40, 2]]\n",
        "mat3 = [[0, 0], [0, 0]]\n",
        "for i in range(0, 2):\n",
        "    \n",
        "   for j in range(0, 2):\n",
        "       \n",
        "       mat3[i][j] = mat1[i][j] + mat2[i][j]\n",
        "       print(\"Addition of two matrices\")\n",
        "for i in range(0, 2):\n",
        "  for j in range(0, 2):\n",
        "       print(mat3[i][j], end = \"\")\n",
        "       print()\n",
        "\n",
        "\n",
        "\n",
        "#Python program to perform matrix operations, matrix addition,matrix subtraction,matrix multiplication - subtraction\n",
        "\n",
        "\n",
        "mat1 = [[10, 20], [50, 3]]\n",
        "mat2 = [[3, 2], [40, 2]]\n",
        "mat3 = [[0, 0], [0, 0]]\n",
        "for i in range(0, 2):\n",
        "    \n",
        "   for j in range(0, 2):\n",
        "       \n",
        "       mat3[i][j] = mat1[i][j] - mat2[i][j]\n",
        "       print(\"Subtraction of two matrices\")\n",
        "for i in range(0, 2):\n",
        "  for j in range(0, 2):\n",
        "       print(mat3[i][j], end = \"\")\n",
        "       print()\n",
        "\n",
        "\n",
        "\n",
        "\n",
        "#Python program to multiply two matrices\n",
        "\n",
        "mat1 = [[10, 20], [50, 3]]\n",
        "mat2 = [[3, 2], [40, 2]]\n",
        "mat3 = [[0, 0], [0, 0]]\n",
        "\n",
        "for i in range(0, 2):\n",
        "    \n",
        "   for j in range(0, 2):\n",
        "       \n",
        "       mat3[i][j] = mat1[i][j] * mat2[i][j]\n",
        "       print(\"Multiplication of two matrices\")\n",
        "for i in range(0, 2):\n",
        "  for j in range(0, 2):\n",
        "       print(mat3[i][j], end = \"\")\n",
        "       print()"
      ],
      "execution_count": 4,
      "outputs": [
        {
          "output_type": "stream",
          "text": [
            "Addition of two matrices\n",
            "Addition of two matrices\n",
            "Addition of two matrices\n",
            "Addition of two matrices\n",
            "13\n",
            "22\n",
            "90\n",
            "5\n",
            "Subtraction of two matrices\n",
            "Subtraction of two matrices\n",
            "Subtraction of two matrices\n",
            "Subtraction of two matrices\n",
            "7\n",
            "18\n",
            "10\n",
            "1\n",
            "Multiplication of two matrices\n",
            "Multiplication of two matrices\n",
            "Multiplication of two matrices\n",
            "Multiplication of two matrices\n",
            "30\n",
            "40\n",
            "2000\n",
            "6\n"
          ],
          "name": "stdout"
        }
      ]
    }
  ]
}
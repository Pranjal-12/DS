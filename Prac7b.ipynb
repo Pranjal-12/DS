{
  "nbformat": 4,
  "nbformat_minor": 0,
  "metadata": {
    "colab": {
      "name": "Prac7b.ipynb",
      "provenance": [],
      "collapsed_sections": [],
      "authorship_tag": "ABX9TyNDxfhkEoqCnL13/pB4wv9B",
      "include_colab_link": true
    },
    "kernelspec": {
      "name": "python3",
      "display_name": "Python 3"
    }
  },
  "cells": [
    {
      "cell_type": "markdown",
      "metadata": {
        "id": "view-in-github",
        "colab_type": "text"
      },
      "source": [
        "<a href=\"https://colab.research.google.com/github/Pranjal-12/DS/blob/master/Prac7b.ipynb\" target=\"_parent\"><img src=\"https://colab.research.google.com/assets/colab-badge.svg\" alt=\"Open In Colab\"/></a>"
      ]
    },
    {
      "cell_type": "code",
      "metadata": {
        "id": "cmZ-ztmzd4PB",
        "outputId": "59a631ff-865e-4ec3-b8a5-55d9133d0dfc",
        "colab": {
          "base_uri": "https://localhost:8080/",
          "height": 319
        }
      },
      "source": [
        "class Hash:\n",
        "    def __init__(self, keys, lowerrange, higherrange):\n",
        "        self.value = self.hashfunction(keys, lowerrange, higherrange)\n",
        "\n",
        "    def get_key_value(self):\n",
        "        return self.value\n",
        "\n",
        "    def hashfunction(self, keys, lowerrange, higherrange):\n",
        "        if lowerrange == 0 and higherrange > 0:\n",
        "            return keys % (higherrange)\n",
        "\n",
        "\n",
        "if __name__ == '__main__':\n",
        "    linear_probing = True\n",
        "    list_of_keys = [23, 43, 1, 87,32,34,67,77,45,54]\n",
        "    list_of_list_index = [None]*len(list_of_keys)\n",
        "    print(\"Before : \" + str(list_of_list_index))\n",
        "    for value in list_of_keys:\n",
        "        # print(Hash(value,0,len(list_of_keys)).get_key_value())\n",
        "        list_index = Hash(value, 0, len(list_of_keys)).get_key_value()\n",
        "        print(\"hash value for \" + str(value) + \" is :\" + str(list_index))\n",
        "        if list_of_list_index[list_index]:\n",
        "            print(\"Collission detected for \" + str(value))\n",
        "            if linear_probing:\n",
        "                old_list_index = list_index\n",
        "                if list_index == len(list_of_list_index)-1:\n",
        "                    list_index = 0\n",
        "                else:\n",
        "                    list_index += 1\n",
        "                list_full = False\n",
        "                while list_of_list_index[list_index]:\n",
        "                    if list_index == old_list_index:\n",
        "                        list_full = True\n",
        "                        break\n",
        "                    if list_index+1 == len(list_of_list_index):\n",
        "                        list_index = 0\n",
        "                    else:\n",
        "                        list_index += 1\n",
        "                if list_full:\n",
        "                    print(\"List was full . Could not save\")\n",
        "                else:\n",
        "                    list_of_list_index[list_index] = value\n",
        "\n",
        "        else:\n",
        "            list_of_list_index[list_index] = value\n",
        "\n",
        "    print(\"After: \" + str(list_of_list_index))\n"
      ],
      "execution_count": 1,
      "outputs": [
        {
          "output_type": "stream",
          "text": [
            "Before : [None, None, None, None, None, None, None, None, None, None]\n",
            "hash value for 23 is :3\n",
            "hash value for 43 is :3\n",
            "Collission detected for 43\n",
            "hash value for 1 is :1\n",
            "hash value for 87 is :7\n",
            "hash value for 32 is :2\n",
            "hash value for 34 is :4\n",
            "Collission detected for 34\n",
            "hash value for 67 is :7\n",
            "Collission detected for 67\n",
            "hash value for 77 is :7\n",
            "Collission detected for 77\n",
            "hash value for 45 is :5\n",
            "Collission detected for 45\n",
            "hash value for 54 is :4\n",
            "Collission detected for 54\n",
            "After: [54, 1, 32, 23, 43, 34, 45, 87, 67, 77]\n"
          ],
          "name": "stdout"
        }
      ]
    }
  ]
}
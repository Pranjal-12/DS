{
  "nbformat": 4,
  "nbformat_minor": 0,
  "metadata": {
    "colab": {
      "name": "prac5.ipynb",
      "provenance": [],
      "collapsed_sections": [],
      "authorship_tag": "ABX9TyPz6W5i908cJUVhcAbgEBLX",
      "include_colab_link": true
    },
    "kernelspec": {
      "name": "python3",
      "display_name": "Python 3"
    }
  },
  "cells": [
    {
      "cell_type": "markdown",
      "metadata": {
        "id": "view-in-github",
        "colab_type": "text"
      },
      "source": [
        "<a href=\"https://colab.research.google.com/github/Pranjal-12/DS/blob/master/prac5.ipynb\" target=\"_parent\"><img src=\"https://colab.research.google.com/assets/colab-badge.svg\" alt=\"Open In Colab\"/></a>"
      ]
    },
    {
      "cell_type": "code",
      "metadata": {
        "id": "XuzJzBd4nYIX",
        "colab_type": "code",
        "colab": {
          "base_uri": "https://localhost:8080/",
          "height": 101
        },
        "outputId": "d51e3c3e-0a33-4223-c9b2-40917d18ab27"
      },
      "source": [
        "list1 = [1,2,3,4,5,6,7,8,9,10]\n",
        "print(\"List = \",list1)\n",
        "size = len(list1)\n",
        "def binary_search(x):\n",
        "    print(\"BINARY SEARCHING\")\n",
        "    low = 0\n",
        "    high = len(list1) - 1\n",
        "    mid = 0\n",
        "    while low <= high: \n",
        "        mid = (high + low) // 2\n",
        "        if list1[mid] < x: \n",
        "            low = mid + 1\n",
        "        elif list1[mid] > x: \n",
        "            high = mid - 1\n",
        "        else: \n",
        "            return mid \n",
        "    return \"None it not in the list\"\n",
        "\n",
        "\n",
        "\n",
        "def linear_search(n):\n",
        "\tprint(\"LINEAR SEARCHING\")\n",
        "\tif n not in list1:\n",
        "\t\tprint(n,\"not in the list\")\n",
        "\telse:\n",
        "\t\tfor i in range(size):\n",
        "\t\t\tif list1[i]==n:\n",
        "\t\t\t\tprint(\"index of \", n,\" is \",i)\n",
        "\t\t\t\t\n",
        "n = input(\"Enter (L) for Linear search and  (B) for Binary search :\")\n",
        "if n==\"L\" or n==\"l\":\n",
        "\ty = int(input(\"Enter a no. from the given list1 \"))\n",
        "\tlinear_search(y)\n",
        "elif n==\"B\" or n==\"b\":\n",
        "\ty = int(input(\"Enter a no. from the given list1 \"))\n",
        "\tprint(\"index of \",y,\" is \",binary_search(y))\n",
        "else:\n",
        "\tprint(\"Invalid input\")"
      ],
      "execution_count": 40,
      "outputs": [
        {
          "output_type": "stream",
          "text": [
            "List =  [1, 2, 3, 4, 5, 6, 7, 8, 9, 10]\n",
            "Enter (L) for Linear search and  (B) for Binary search :l\n",
            "Enter a no. from the given list1 3\n",
            "LINEAR SEARCHING\n",
            "index of  3  is  2\n"
          ],
          "name": "stdout"
        }
      ]
    }
  ]
}
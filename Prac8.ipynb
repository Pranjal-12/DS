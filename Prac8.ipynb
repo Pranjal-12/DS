{
  "nbformat": 4,
  "nbformat_minor": 0,
  "metadata": {
    "colab": {
      "name": "Prac8.ipynb",
      "provenance": [],
      "collapsed_sections": [],
      "authorship_tag": "ABX9TyM/baka6sHSyQSt7QSlzn+r",
      "include_colab_link": true
    },
    "kernelspec": {
      "name": "python3",
      "display_name": "Python 3"
    }
  },
  "cells": [
    {
      "cell_type": "markdown",
      "metadata": {
        "id": "view-in-github",
        "colab_type": "text"
      },
      "source": [
        "<a href=\"https://colab.research.google.com/github/Pranjal-12/DS/blob/master/Prac8.ipynb\" target=\"_parent\"><img src=\"https://colab.research.google.com/assets/colab-badge.svg\" alt=\"Open In Colab\"/></a>"
      ]
    },
    {
      "cell_type": "code",
      "metadata": {
        "id": "pvCp3mI6eVrm",
        "outputId": "08b340fb-4b16-429b-9a83-c51b0ba1967b",
        "colab": {
          "base_uri": "https://localhost:8080/",
          "height": 151
        }
      },
      "source": [
        "import random\n",
        "\n",
        "random.seed(23)\n",
        "\n",
        "class Node:\n",
        "    def __init__(self, val):\n",
        "        self.val = val\n",
        "        self.leftChild = None\n",
        "        self.rightChild = None\n",
        "\n",
        "\n",
        "def insert(root, key):\n",
        "    if root is None:\n",
        "        return Node(key)\n",
        "\n",
        "    else:\n",
        "        if root.val == key:\n",
        "            return root\n",
        "        elif root.val < key:\n",
        "            root.rightChild = insert(root.rightChild, key)\n",
        "        else:\n",
        "            root.leftChild = insert(root.leftChild, key)\n",
        "\n",
        "    return root\n",
        "\n",
        "\n",
        "def PrintInorder(root):\n",
        "    if root:\n",
        "        PrintInorder(root.leftChild)\n",
        "        print(root.val, end=\" \")\n",
        "        PrintInorder(root.rightChild)\n",
        "\n",
        "\n",
        "def printPreorder(root):\n",
        "    if root:\n",
        "        print(root.val, end=\" \")\n",
        "        printPreorder(root.leftChild)\n",
        "        printPreorder(root.rightChild)\n",
        "\n",
        "\n",
        "def printPostorder(root):\n",
        "    if root:\n",
        "        printPostorder(root.leftChild)\n",
        "        printPostorder(root.rightChild)\n",
        "        print(root.val, end=\" \")\n",
        "\n",
        "\n",
        "tree = Node(20)\n",
        "for i in range(10):\n",
        "    insert(tree, random.randint(2, 100))\n",
        "\n",
        "\n",
        "if __name__ == \"__main__\":\n",
        "    print(\"inorder\")\n",
        "    PrintInorder(tree)\n",
        "    print(\"\\n\")\n",
        "    print(\"preorder\")\n",
        "    printPreorder(tree)\n",
        "    print(\"\\n\")\n",
        "    print(\"postorder\")\n",
        "    printPostorder(tree)\n"
      ],
      "execution_count": 1,
      "outputs": [
        {
          "output_type": "stream",
          "text": [
            "inorder\n",
            "4 12 18 20 39 41 47 50 56 69 77 \n",
            "\n",
            "preorder\n",
            "20 12 4 18 39 77 41 56 50 47 69 \n",
            "\n",
            "postorder\n",
            "4 18 12 47 50 69 56 41 77 39 20 "
          ],
          "name": "stdout"
        }
      ]
    }
  ]
}
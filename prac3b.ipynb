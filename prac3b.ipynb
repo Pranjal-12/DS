{
  "nbformat": 4,
  "nbformat_minor": 0,
  "metadata": {
    "colab": {
      "name": "prac3b.ipynb",
      "provenance": [],
      "collapsed_sections": [],
      "authorship_tag": "ABX9TyNM3MUYg0BEM1HVqSiKG88l",
      "include_colab_link": true
    },
    "kernelspec": {
      "name": "python3",
      "display_name": "Python 3"
    }
  },
  "cells": [
    {
      "cell_type": "markdown",
      "metadata": {
        "id": "view-in-github",
        "colab_type": "text"
      },
      "source": [
        "<a href=\"https://colab.research.google.com/github/Pranjal-12/DS/blob/master/prac3b.ipynb\" target=\"_parent\"><img src=\"https://colab.research.google.com/assets/colab-badge.svg\" alt=\"Open In Colab\"/></a>"
      ]
    },
    {
      "cell_type": "code",
      "metadata": {
        "id": "7FVTsTlem9bm",
        "outputId": "51d1ad44-531b-410d-b3cb-6faaabc3d09a",
        "colab": {
          "base_uri": "https://localhost:8080/",
          "height": 151
        }
      },
      "source": [
        "def hanoi(disks, source, auxiliary, target):\n",
        "    if disks == 1:\n",
        "        print('Move disk 1 from peg {} to peg {}.'.format(source, target))\n",
        "        return\n",
        " \n",
        "    hanoi(disks - 1, source, target, auxiliary)\n",
        "    print('Move disk {} from peg {} to peg {}.'.format(disks, source, target))\n",
        "    hanoi(disks - 1, auxiliary, source, target)\n",
        " \n",
        " \n",
        "disks = int(input('Enter number of disks: '))\n",
        "hanoi(disks, 'A', 'B', 'C')"
      ],
      "execution_count": 3,
      "outputs": [
        {
          "output_type": "stream",
          "text": [
            "Enter number of disks: 3\n",
            "Move disk 1 from peg A to peg C.\n",
            "Move disk 2 from peg A to peg B.\n",
            "Move disk 1 from peg C to peg B.\n",
            "Move disk 3 from peg A to peg C.\n",
            "Move disk 1 from peg B to peg A.\n",
            "Move disk 2 from peg B to peg C.\n",
            "Move disk 1 from peg A to peg C.\n"
          ],
          "name": "stdout"
        }
      ]
    }
  ]
}
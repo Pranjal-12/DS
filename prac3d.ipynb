{
  "nbformat": 4,
  "nbformat_minor": 0,
  "metadata": {
    "colab": {
      "name": "prac3d.ipynb",
      "provenance": [],
      "authorship_tag": "ABX9TyPekMz2RTVB0TsrpYcf4qO0",
      "include_colab_link": true
    },
    "kernelspec": {
      "name": "python3",
      "display_name": "Python 3"
    }
  },
  "cells": [
    {
      "cell_type": "markdown",
      "metadata": {
        "id": "view-in-github",
        "colab_type": "text"
      },
      "source": [
        "<a href=\"https://colab.research.google.com/github/Pranjal-12/DS/blob/master/prac3d.ipynb\" target=\"_parent\"><img src=\"https://colab.research.google.com/assets/colab-badge.svg\" alt=\"Open In Colab\"/></a>"
      ]
    },
    {
      "cell_type": "code",
      "metadata": {
        "id": "OomMoQLFOcFA",
        "colab_type": "code",
        "colab": {
          "base_uri": "https://localhost:8080/",
          "height": 84
        },
        "outputId": "6063feea-3bcb-4ac9-e26c-5debaf5f283f"
      },
      "source": [
        "def recur_factorial(n):  \n",
        "   if n == 1:  \n",
        "       return n  \n",
        "   else:  \n",
        "       return n*recur_factorial(n-1)  \n",
        " \n",
        "num = int(input(\"Enter a number: \"))  \n",
        "\n",
        "if num < 0:  \n",
        "   print(\"Sorry, factorial does not exist for negative numbers\")  \n",
        "elif num == 0:  \n",
        "   print(\"The factorial of 0 is 1\")  \n",
        "else:  \n",
        "   print(\"The factorial of\",num,\"is\",recur_factorial(num))\n",
        "\n",
        "def factorial(n):\n",
        "\n",
        "\tfact = 1\n",
        "\tfor i in range(1, n + 1):\n",
        "\t\tfact = fact * i\n",
        "\n",
        "\treturn fact\n",
        "\n",
        "\n",
        "if __name__ == '_main_':\n",
        "    print(\"The Factorial of\", n, \"is\", factorial(n))\n",
        "\n",
        "#using iteration\n",
        "def fact(number):\n",
        "   \n",
        "    fact = 1\n",
        "  \n",
        "    for number in range(5, 1,-1):\n",
        "    \n",
        "        fact = fact * number\n",
        "    return fact\n",
        "\n",
        "number = int(input(\"Enter a number for iteration : \"))\n",
        "\n",
        "factorial = fact(number)\n",
        "print(\"Factorial is \"+str(factorial))"
      ],
      "execution_count": 1,
      "outputs": [
        {
          "output_type": "stream",
          "text": [
            "Enter a number: 6\n",
            "The factorial of 6 is 720\n",
            "Enter a number for iteration : 2\n",
            "Factorial is 120\n"
          ],
          "name": "stdout"
        }
      ]
    }
  ]
}
{
  "nbformat": 4,
  "nbformat_minor": 0,
  "metadata": {
    "colab": {
      "name": "prac3a.ipynb",
      "provenance": [],
      "collapsed_sections": [],
      "authorship_tag": "ABX9TyO87AUMfjspz8tgoIxsetFH",
      "include_colab_link": true
    },
    "kernelspec": {
      "name": "python3",
      "display_name": "Python 3"
    }
  },
  "cells": [
    {
      "cell_type": "markdown",
      "metadata": {
        "id": "view-in-github",
        "colab_type": "text"
      },
      "source": [
        "<a href=\"https://colab.research.google.com/github/Pranjal-12/DS/blob/master/prac3a.ipynb\" target=\"_parent\"><img src=\"https://colab.research.google.com/assets/colab-badge.svg\" alt=\"Open In Colab\"/></a>"
      ]
    },
    {
      "cell_type": "code",
      "metadata": {
        "id": "-wNrB8K0NKgr",
        "colab_type": "code",
        "colab": {
          "base_uri": "https://localhost:8080/",
          "height": 84
        },
        "outputId": "d6c3bad2-634e-4bb8-8f1e-c84cef9bbc3d"
      },
      "source": [
        "from sys import maxsize \n",
        "\n",
        "\n",
        "def createStack(): \n",
        "\tstack = [] \n",
        "\treturn stack \n",
        "\n",
        "def isEmpty(stack): \n",
        "\treturn len(stack) == 0\n",
        "\n",
        "\n",
        "def push(stack, item): \n",
        "\tstack.append(item) \n",
        "\tprint(item + \" pushed to stack \") \n",
        "\t\n",
        "\n",
        "def pop(stack): \n",
        "\tif (isEmpty(stack)): \n",
        "\t\treturn str(-maxsize -1) \n",
        "\t\n",
        "\treturn stack.pop() \n",
        "\n",
        "\n",
        "def peek(stack): \n",
        "\tif (isEmpty(stack)): \n",
        "\t\treturn str(-maxsize -1) \n",
        "\treturn stack[len(stack) - 1] \n",
        "\n",
        " \n",
        "stack = createStack() \n",
        "push(stack, str(3)) \n",
        "push(stack, str(2)) \n",
        "push(stack, str(3)) \n",
        "print(pop(stack) + \" popped from stack\") "
      ],
      "execution_count": 5,
      "outputs": [
        {
          "output_type": "stream",
          "text": [
            "3 pushed to stack \n",
            "2 pushed to stack \n",
            "3 pushed to stack \n",
            "3 popped from stack\n"
          ],
          "name": "stdout"
        }
      ]
    }
  ]
}
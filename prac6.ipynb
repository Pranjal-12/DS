{
  "nbformat": 4,
  "nbformat_minor": 0,
  "metadata": {
    "colab": {
      "name": "prac6.ipynb",
      "provenance": [],
      "collapsed_sections": [],
      "authorship_tag": "ABX9TyNhT9L9zrZNxiiuhpd2Qd2V",
      "include_colab_link": true
    },
    "kernelspec": {
      "name": "python3",
      "display_name": "Python 3"
    }
  },
  "cells": [
    {
      "cell_type": "markdown",
      "metadata": {
        "id": "view-in-github",
        "colab_type": "text"
      },
      "source": [
        "<a href=\"https://colab.research.google.com/github/Pranjal-12/DS/blob/master/prac6.ipynb\" target=\"_parent\"><img src=\"https://colab.research.google.com/assets/colab-badge.svg\" alt=\"Open In Colab\"/></a>"
      ]
    },
    {
      "cell_type": "code",
      "metadata": {
        "id": "xKDJ2iplwj5U",
        "colab_type": "code",
        "colab": {
          "base_uri": "https://localhost:8080/",
          "height": 50
        },
        "outputId": "6b3653c3-614a-45e4-d2d8-b4a90c78aa8e"
      },
      "source": [
        "a = str(input(\"Enter i for insertion sort , b for bubble sort , s for selection sort : \"))\n",
        "nums = [5,9,6,2,7,3,1,8,]\n",
        "if a=='i':\n",
        "   \n",
        "    for i  in range(1,len(nums)):\n",
        "        currentvalue = nums[i]\n",
        "        position = i\n",
        "        while(position>0 and nums[position-1] > currentvalue):\n",
        "            nums[position] = nums[position-1]\n",
        "            position = position-1\n",
        "    nums[position] = currentvalue\n",
        "    print(nums)\n",
        "elif a == 'b' :\n",
        "    \n",
        "    def sort(nums):\n",
        "        for i in range(len(nums)-1,0,-1):\n",
        "            for j in range(i):\n",
        "                if nums[j]>nums[j+1]:\n",
        "                    temp = nums[j]\n",
        "                    nums[j]=nums[j+1]\n",
        "                    nums[j+1] = temp \n",
        "    sort(nums)\n",
        "    print(nums)\n",
        "elif a == 's':\n",
        "    def sort(nums):\n",
        "        for i in range(len(nums)):\n",
        "            minpos = i\n",
        "            for j in range(i,len(nums)):\n",
        "                if nums[j] < nums[minpos]:\n",
        "                    minpos=j\n",
        "            temp = nums[i]\n",
        "            nums[i] = nums[minpos]\n",
        "            nums[minpos] =temp\n",
        "\n",
        "    \n",
        "    sort(nums)\n",
        "    print(nums)\n",
        "else:\n",
        "    print(\"Enter valid input\")"
      ],
      "execution_count": 8,
      "outputs": [
        {
          "output_type": "stream",
          "text": [
            "Enter i for insertion sort , b for bubble sort , s for selection sort : s\n",
            "[1, 2, 3, 5, 6, 7, 8, 9]\n"
          ],
          "name": "stdout"
        }
      ]
    }
  ]
}
{
  "nbformat": 4,
  "nbformat_minor": 0,
  "metadata": {
    "colab": {
      "name": "Prac7a.ipynb",
      "provenance": [],
      "collapsed_sections": [],
      "authorship_tag": "ABX9TyPut0GCJ9yxn3P0EkR2C1FO",
      "include_colab_link": true
    },
    "kernelspec": {
      "name": "python3",
      "display_name": "Python 3"
    }
  },
  "cells": [
    {
      "cell_type": "markdown",
      "metadata": {
        "id": "view-in-github",
        "colab_type": "text"
      },
      "source": [
        "<a href=\"https://colab.research.google.com/github/Pranjal-12/DS/blob/master/Prac7a.ipynb\" target=\"_parent\"><img src=\"https://colab.research.google.com/assets/colab-badge.svg\" alt=\"Open In Colab\"/></a>"
      ]
    },
    {
      "cell_type": "code",
      "metadata": {
        "id": "efFhD9kedJsj",
        "outputId": "502a7908-14ac-41a6-8ca9-8f7a11a6600c",
        "colab": {
          "base_uri": "https://localhost:8080/",
          "height": 84
        }
      },
      "source": [
        "class Hash:\n",
        "    def __init__(self, keys, lowerrange, higherrange):\n",
        "        self.value = self.hashfunction(keys,lowerrange, higherrange)\n",
        "\n",
        "    def get_key_value(self):\n",
        "        return self.value\n",
        "\n",
        "    def hashfunction(self,keys,lowerrange, higherrange):\n",
        "        if lowerrange == 0 and higherrange > 0:\n",
        "            return keys%(higherrange)\n",
        "\n",
        "if __name__ == '__main__':\n",
        "    list_of_keys = [23,43,1,87]\n",
        "    list_of_list_index = [None,None,None,None]\n",
        "    print(\"Before : \" + str(list_of_list_index))\n",
        "    for value in list_of_keys:\n",
        "        #print(Hash(value,0,len(list_of_keys)).get_key_value())\n",
        "        list_index = Hash(value,0,len(list_of_keys)).get_key_value()\n",
        "        if list_of_list_index[list_index]:\n",
        "            print(\"Collission detected\")\n",
        "        else:\n",
        "            list_of_list_index[list_index] = value\n",
        "\n",
        "    print(\"After: \" + str(list_of_list_index))"
      ],
      "execution_count": 1,
      "outputs": [
        {
          "output_type": "stream",
          "text": [
            "Before : [None, None, None, None]\n",
            "Collission detected\n",
            "Collission detected\n",
            "After: [None, 1, None, 23]\n"
          ],
          "name": "stdout"
        }
      ]
    }
  ]
}
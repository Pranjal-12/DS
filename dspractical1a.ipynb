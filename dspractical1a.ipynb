{
  "nbformat": 4,
  "nbformat_minor": 0,
  "metadata": {
    "colab": {
      "name": "dspractical1a.ipynb",
      "provenance": [],
      "authorship_tag": "ABX9TyMvw8RlA9tS6fcKmXlhShHM",
      "include_colab_link": true
    },
    "kernelspec": {
      "name": "python3",
      "display_name": "Python 3"
    }
  },
  "cells": [
    {
      "cell_type": "markdown",
      "metadata": {
        "id": "view-in-github",
        "colab_type": "text"
      },
      "source": [
        "<a href=\"https://colab.research.google.com/github/Pranjal-12/DS/blob/master/dspractical1a.ipynb\" target=\"_parent\"><img src=\"https://colab.research.google.com/assets/colab-badge.svg\" alt=\"Open In Colab\"/></a>"
      ]
    },
    {
      "cell_type": "code",
      "metadata": {
        "id": "hPNGHi3ExJH_",
        "colab_type": "code",
        "colab": {}
      },
      "source": [
        "arr1=[12,15,17,13,14,16]\n",
        "arr2=['hello','hi','hey']\n",
        "arr3=[2,4,5,3,1,6]\n",
        "\n",
        "index=arr1.index(13)\n",
        "print(index)\n",
        "\n",
        "arr1.sort()\n",
        "print(arr1)\n",
        "\n",
        "arr1.extend(arr2)\n",
        "print(arr1)\n",
        "\n",
        "arr3.reverse()\n",
        "print(arr3)"
      ],
      "execution_count": null,
      "outputs": []
    },
    {
      "cell_type": "code",
      "metadata": {
        "id": "1t8uwue6xRKp",
        "colab_type": "code",
        "colab": {}
      },
      "source": [
        ""
      ],
      "execution_count": null,
      "outputs": []
    }
  ]
}
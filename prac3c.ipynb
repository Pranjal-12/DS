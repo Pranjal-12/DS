{
  "nbformat": 4,
  "nbformat_minor": 0,
  "metadata": {
    "colab": {
      "name": "prac3c.ipynb",
      "provenance": [],
      "authorship_tag": "ABX9TyOSFSHKMW2CbE0t981ulG6I",
      "include_colab_link": true
    },
    "kernelspec": {
      "name": "python3",
      "display_name": "Python 3"
    }
  },
  "cells": [
    {
      "cell_type": "markdown",
      "metadata": {
        "id": "view-in-github",
        "colab_type": "text"
      },
      "source": [
        "<a href=\"https://colab.research.google.com/github/Pranjal-12/DS/blob/master/prac3c.ipynb\" target=\"_parent\"><img src=\"https://colab.research.google.com/assets/colab-badge.svg\" alt=\"Open In Colab\"/></a>"
      ]
    },
    {
      "cell_type": "code",
      "metadata": {
        "id": "Gr-foCqeN-bW",
        "colab_type": "code",
        "colab": {
          "base_uri": "https://localhost:8080/",
          "height": 118
        },
        "outputId": "ee787347-90f1-4214-dcd6-abb5b3d9bc94"
      },
      "source": [
        "def add(x, y, a, b): \n",
        "\n",
        "\tsize = max(a, b); \n",
        "\tsum = [0 for i in range(size)] \n",
        "\n",
        " \n",
        "\t\n",
        "\tfor i in range(0, a, 1): \n",
        "\t\tsum[i] = x[i] \n",
        "\n",
        "\n",
        "\tfor i in range(b): \n",
        "\t\tsum[i] += y[i] \n",
        "\n",
        "\treturn sum\n",
        "\n",
        "\n",
        "def printPoly(poly, b): \n",
        "\tfor i in range(b): \n",
        "\t\tprint(poly[i], end = \"\") \n",
        "\t\tif (i != 0): \n",
        "\t\t\tprint(\"x^\", i, end = \"\") \n",
        "\t\tif (i != b - 1): \n",
        "\t\t\tprint(\" + \", end = \"\") \n",
        "\n",
        "\n",
        "if __name__ == '__main__': \n",
        "\t\n",
        "\t\n",
        "\tx = [3, 1, 6, 8] \n",
        "\n",
        "\t\n",
        "\ty = [1, 2, 4] \n",
        "\ta = len(x) \n",
        "\tb = len(y) \n",
        "\n",
        "\tprint(\"First polynomial is\") \n",
        "\tprintPoly(x, a) \n",
        "\tprint(\"\\n\", end = \"\") \n",
        "\tprint(\"Second polynomial is\") \n",
        "\tprintPoly(y, b) \n",
        "\tprint(\"\\n\", end = \"\") \n",
        "\tsum = add(x, y, a, b) \n",
        "\tsize = max(a, b) \n",
        "\n",
        "\tprint(\"sum polynomial is\") \n",
        "\tprintPoly(sum, size) "
      ],
      "execution_count": 3,
      "outputs": [
        {
          "output_type": "stream",
          "text": [
            "First polynomial is\n",
            "3 + 1x^ 1 + 6x^ 2 + 8x^ 3\n",
            "Second polynomial is\n",
            "1 + 2x^ 1 + 4x^ 2\n",
            "sum polynomial is\n",
            "4 + 3x^ 1 + 10x^ 2 + 8x^ 3"
          ],
          "name": "stdout"
        }
      ]
    }
  ]
}